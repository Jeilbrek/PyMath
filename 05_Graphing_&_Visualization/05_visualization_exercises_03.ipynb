{
 "cells": [
  {
   "cell_type": "markdown",
   "metadata": {},
   "source": [
    "# Lecture 59: Images from matrices"
   ]
  },
  {
   "cell_type": "code",
   "execution_count": 2,
   "metadata": {},
   "outputs": [],
   "source": [
    "import numpy as np\n",
    "import matplotlib.pyplot as plt"
   ]
  },
  {
   "cell_type": "code",
   "execution_count": null,
   "metadata": {},
   "outputs": [],
   "source": [
    "rows = 10\n",
    "cols = 14\n",
    "\n",
    "A = np.zeros((rows, cols))\n",
    "\n",
    "for i in range(rows):\n",
    "    for j in range(cols):\n",
    "        A[i, j] = 3*i - 4*j\n",
    "        plt.text(j, i, int(A[i, j]), horizontalalignment='center', verticalalignment='center')\n",
    "\n",
    "plt.set_cmap('YlGnBu')        \n",
    "plt.imshow(A)"
   ]
  },
  {
   "cell_type": "code",
   "execution_count": 50,
   "metadata": {},
   "outputs": [
    {
     "data": {
      "text/plain": [
       "<matplotlib.image.AxesImage at 0x1b4c61fc948>"
      ]
     },
     "execution_count": 50,
     "metadata": {},
     "output_type": "execute_result"
    },
    {
     "data": {
      "image/png": "[encoded data removed]",
      "text/plain": [
       "<Figure size 432x288 with 1 Axes>"
      ]
     },
     "metadata": {},
     "output_type": "display_data"
    }
   ],
   "source": [
    "rows = 8\n",
    "cols = 8\n",
    "\n",
    "c = np.zeros((rows, cols))\n",
    "\n",
    "for i in range(rows):\n",
    "    for j in range(cols):\n",
    "        c[i, j] = (-1)**(i+j)\n",
    "\n",
    "plt.xticks([])\n",
    "plt.yticks([])\n",
    "#plt.tick_params(labelleft=False, labelbottom=False)\n",
    "\n",
    "plt.set_cmap('gray')\n",
    "plt.imshow(c)"
   ]
  },
  {
   "cell_type": "markdown",
   "metadata": {},
   "source": [
    "# Lecture 60"
   ]
  },
  {
   "cell_type": "code",
   "execution_count": 2,
   "metadata": {},
   "outputs": [],
   "source": [
    "import numpy as np\n",
    "import matplotlib.pyplot as plt\n",
    "from matplotlib.patches import Polygon"
   ]
  },
  {
   "cell_type": "code",
   "execution_count": 56,
   "metadata": {},
   "outputs": [
    {
     "data": {
      "image/png": "[encoded data removed]",
      "text/plain": [
       "<Figure size 432x288 with 1 Axes>"
      ]
     },
     "metadata": {
      "needs_background": "light"
     },
     "output_type": "display_data"
    }
   ],
   "source": [
    "x = np.linspace(-2, 2, 100)\n",
    "f = -x**2\n",
    "\n",
    "# np.vtack is used for array manipulation\n",
    "# .T flips the values between rows and columns\n",
    "pnts = np.vstack((x,f)).T\n",
    "f = Polygon(pnts, facecolor='g', alpha=.2)\n",
    "\n",
    "xs = np.array([ [-.5,-4],[-.5,-2.5],[.5,-2.5],[.5,-4] ])\n",
    "sq = Polygon(xs, facecolor='k')\n",
    "\n",
    "fig,ax = plt.subplots()\n",
    "\n",
    "ax.add_patch(f)\n",
    "ax.add_patch(sq)\n",
    "ax.set_xlim([-2.1,2.1])\n",
    "ax.set_ylim([-4.1,.1])\n",
    "\n",
    "#plt.plot(x,f)\n",
    "plt.plot([-2,2],[-4,-4], 'k')\n",
    "plt.axis('off')\n",
    "plt.savefig('hobbitHouse.png') # Save the current figure into the notebook's folder (png, pdf...)\n",
    "plt.show()"
   ]
  },
  {
   "cell_type": "code",
   "execution_count": null,
   "metadata": {},
   "outputs": [],
   "source": []
  }
 ],
 "metadata": {
  "kernelspec": {
   "display_name": "Python 3",
   "language": "python",
   "name": "python3"
  },
  "language_info": {
   "codemirror_mode": {
    "name": "ipython",
    "version": 3
   },
   "file_extension": ".py",
   "mimetype": "text/x-python",
   "name": "python",
   "nbconvert_exporter": "python",
   "pygments_lexer": "ipython3",
   "version": "3.7.6"
  }
 },
 "nbformat": 4,
 "nbformat_minor": 4
}
