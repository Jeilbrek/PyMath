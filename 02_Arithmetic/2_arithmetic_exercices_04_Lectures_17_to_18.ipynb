{
 "cells": [
  {
   "cell_type": "code",
   "execution_count": 4,
   "metadata": {},
   "outputs": [
    {
     "name": "stdout",
     "output_type": "stream",
     "text": [
      "-4 was not tested.\n",
      "Absolute value of 6 is 6.\n",
      "-1 was not tested.\n",
      "Absolute value of 43 is 43.\n",
      "Absolute value of -18 is 18.\n",
      "2 was not tested.\n",
      "0 was not tested.\n"
     ]
    }
   ],
   "source": [
    "# lecture 17 exercise: absolute value\n",
    "numbers = [-4, 6, -1, 43, -18, 2, 0]\n",
    "\n",
    "for n in numbers:\n",
    "    if n < -5 or n > 2:\n",
    "        print('Absolute value of %g is %g.' %(n, abs(n)))\n",
    "    else:\n",
    "        print('%g was not tested.' %(n))"
   ]
  },
  {
   "cell_type": "code",
   "execution_count": 15,
   "metadata": {},
   "outputs": [
    {
     "name": "stdout",
     "output_type": "stream",
     "text": [
      "-5 is an odd  number\n",
      "-4 is an even number\n",
      "-3 is an odd  number\n",
      "-2 is an even number\n",
      "-1 is an odd  number\n",
      " 0 is an even number\n",
      " 1 is an odd  number\n",
      " 2 is an even number\n",
      " 3 is an odd  number\n",
      " 4 is an even number\n",
      " 5 is an odd  number\n",
      " 6 is an even number\n"
     ]
    }
   ],
   "source": [
    "min = -5\n",
    "max = 6\n",
    "\n",
    "for i in range(min, max + 1):\n",
    "    if i >= 0:\n",
    "        print(\" \", end=\"\")\n",
    "    if i%2 == 0:\n",
    "        print('%g is an even number' %(i))\n",
    "    elif i%2 != 0:\n",
    "        print('%g is an odd  number' %(i))"
   ]
  },
  {
   "cell_type": "code",
   "execution_count": null,
   "metadata": {},
   "outputs": [],
   "source": []
  }
 ],
 "metadata": {
  "kernelspec": {
   "display_name": "Python 3",
   "language": "python",
   "name": "python3"
  },
  "language_info": {
   "codemirror_mode": {
    "name": "ipython",
    "version": 3
   },
   "file_extension": ".py",
   "mimetype": "text/x-python",
   "name": "python",
   "nbconvert_exporter": "python",
   "pygments_lexer": "ipython3",
   "version": "3.7.6"
  }
 },
 "nbformat": 4,
 "nbformat_minor": 4
}
