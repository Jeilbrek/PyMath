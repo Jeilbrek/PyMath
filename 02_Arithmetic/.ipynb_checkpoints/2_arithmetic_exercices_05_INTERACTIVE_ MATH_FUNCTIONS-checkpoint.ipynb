{
 "cells": [
  {
   "cell_type": "code",
   "execution_count": 1,
   "metadata": {},
   "outputs": [],
   "source": [
    "from IPython.display import display, Math"
   ]
  },
  {
   "cell_type": "code",
   "execution_count": 2,
   "metadata": {},
   "outputs": [],
   "source": [
    "# create the functions\n",
    "\n",
    "def show_operation(x, y, switch):\n",
    "    if switch < 1 or switch > 2:\n",
    "        return print(\"Invalid selection!\")\n",
    "    \n",
    "    elif switch == 1:\n",
    "        display(Math('%g^%g = %g' %(x, y, x**y)))\n",
    "    \n",
    "    elif switch == 2:\n",
    "        display(Math('\\\\frac{%g}{%g} = %g' %(x, y, x/y)))\n",
    "        \n",
    "def get_switch(x, y):\n",
    "    display(Math('\\\\text{Press \"1\" to compute }%g^%g \\\\text{ or \"2\" to compute }\\\\frac{%g}{%g}' %(x, y, x, y)))\n",
    "    return int( input() )"
   ]
  },
  {
   "cell_type": "code",
   "execution_count": 3,
   "metadata": {},
   "outputs": [
    {
     "name": "stdout",
     "output_type": "stream",
     "text": [
      "input X: 2\n",
      "input Y: 4\n"
     ]
    }
   ],
   "source": [
    "# prompt the user for input\n",
    "x = int( input(\"input X: \") )\n",
    "y = int( input(\"input Y: \") )"
   ]
  },
  {
   "cell_type": "code",
   "execution_count": 4,
   "metadata": {},
   "outputs": [
    {
     "data": {
      "text/latex": [
       "$\\displaystyle \\text{Press \"1\" to compute }2^4 \\text{ or \"2\" to compute }\\frac{2}{4}$"
      ],
      "text/plain": [
       "<IPython.core.display.Math object>"
      ]
     },
     "metadata": {},
     "output_type": "display_data"
    },
    {
     "name": "stdout",
     "output_type": "stream",
     "text": [
      "1\n"
     ]
    },
    {
     "data": {
      "text/latex": [
       "$\\displaystyle 2^4 = 16$"
      ],
      "text/plain": [
       "<IPython.core.display.Math object>"
      ]
     },
     "metadata": {},
     "output_type": "display_data"
    }
   ],
   "source": [
    "switch = get_switch(x, y)\n",
    "\n",
    "show_operation(x, y, switch)"
   ]
  },
  {
   "cell_type": "code",
   "execution_count": 10,
   "metadata": {},
   "outputs": [],
   "source": [
    "# Implementing a \"guess the Number\" game\n",
    "\n",
    "from numpy import random\n",
    "\n",
    "def guess_the_number():\n",
    "    \n",
    "    the_number = random.randint(1, 101)\n",
    "    \n",
    "    user_number = int( input('Guess a number between 1 and 100: ') )\n",
    "    \n",
    "    while the_number != user_number:\n",
    "        \n",
    "        if user_number < the_number:\n",
    "            print('Guess higher...')\n",
    "            \n",
    "        elif user_number > the_number:\n",
    "            print('Guess lower...')\n",
    "            \n",
    "        user_number = int( input('Guess again: ') )\n",
    "    \n",
    "    print(f'Good job, the original number was {the_number} and yout final guess was {user_number}')"
   ]
  },
  {
   "cell_type": "code",
   "execution_count": 11,
   "metadata": {},
   "outputs": [
    {
     "name": "stdout",
     "output_type": "stream",
     "text": [
      "Guess a number between 1 and 100: 50\n",
      "Guess lower...\n",
      "Guess again: 1\n",
      "Guess higher...\n",
      "Guess again: 25\n",
      "Guess higher...\n",
      "Guess again: 40\n",
      "Guess lower...\n",
      "Guess again: 35\n",
      "Guess higher...\n",
      "Guess again: 37\n",
      "Guess lower...\n",
      "Guess again: 36\n",
      "Good job, the original number was 36 and yout final guess was 36\n"
     ]
    }
   ],
   "source": [
    "guess_the_number()"
   ]
  },
  {
   "cell_type": "code",
   "execution_count": null,
   "metadata": {},
   "outputs": [],
   "source": []
  }
 ],
 "metadata": {
  "kernelspec": {
   "display_name": "Python 3",
   "language": "python",
   "name": "python3"
  },
  "language_info": {
   "codemirror_mode": {
    "name": "ipython",
    "version": 3
   },
   "file_extension": ".py",
   "mimetype": "text/x-python",
   "name": "python",
   "nbconvert_exporter": "python",
   "pygments_lexer": "ipython3",
   "version": "3.7.6"
  }
 },
 "nbformat": 4,
 "nbformat_minor": 4
}
