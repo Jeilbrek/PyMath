{
 "cells": [
  {
   "cell_type": "code",
   "execution_count": 20,
   "metadata": {},
   "outputs": [
    {
     "data": {
      "text/latex": [
       "$\\displaystyle 4x + 3 < 17 - x^2$"
      ],
      "text/plain": [
       "<IPython.core.display.Math object>"
      ]
     },
     "metadata": {},
     "output_type": "display_data"
    },
    {
     "name": "stdout",
     "output_type": "stream",
     "text": [
      "For x=4 this inequation is: False\n"
     ]
    },
    {
     "data": {
      "text/latex": [
       "$\\displaystyle 8x - 2 \\leq -3x + 42$"
      ],
      "text/plain": [
       "<IPython.core.display.Math object>"
      ]
     },
     "metadata": {},
     "output_type": "display_data"
    },
    {
     "name": "stdout",
     "output_type": "stream",
     "text": [
      "For x=2 this inequation is: True\n"
     ]
    }
   ],
   "source": [
    "from IPython.display import display, Math\n",
    "\n",
    "x = 2\n",
    "# x = 3\n",
    "# x = 4\n",
    "\n",
    "out_str = 'For x={x} this inequation is: '.format(x=x)\n",
    "\n",
    "inequation_1 = 4*x + 3 < 17 - x**2\n",
    "inequation_2 = 8*x - 2 <= -3*x + 42\n",
    "\n",
    "display(Math('4x + 3 < 17 - x^2'))\n",
    "print(out_str + str(inequation_1))\n",
    "\n",
    "\n",
    "display(Math('8x - 2 \\\\leq -3x + 42'))\n",
    "print('For x=2 this inequation is: ' + str(inequation_2))\n"
   ]
  },
  {
   "cell_type": "code",
   "execution_count": null,
   "metadata": {},
   "outputs": [],
   "source": []
  }
 ],
 "metadata": {
  "kernelspec": {
   "display_name": "Python 3",
   "language": "python",
   "name": "python3"
  },
  "language_info": {
   "codemirror_mode": {
    "name": "ipython",
    "version": 3
   },
   "file_extension": ".py",
   "mimetype": "text/x-python",
   "name": "python",
   "nbconvert_exporter": "python",
   "pygments_lexer": "ipython3",
   "version": "3.7.6"
  }
 },
 "nbformat": 4,
 "nbformat_minor": 4
}
