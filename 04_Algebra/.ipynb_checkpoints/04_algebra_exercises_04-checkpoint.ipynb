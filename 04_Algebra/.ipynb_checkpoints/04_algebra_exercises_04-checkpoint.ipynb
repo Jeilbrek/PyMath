{
 "cells": [
  {
   "cell_type": "markdown",
   "metadata": {},
   "source": [
    "# Lecture 42: Prime factorization"
   ]
  },
  {
   "cell_type": "code",
   "execution_count": 2,
   "metadata": {},
   "outputs": [
    {
     "name": "stdout",
     "output_type": "stream",
     "text": [
      "2 is a prime number.\n",
      "3 is a prime number.\n",
      "4 is a composite number with prime factors: [2].\n",
      "5 is a prime number.\n",
      "6 is a composite number with prime factors: [2, 3].\n",
      "7 is a prime number.\n",
      "8 is a composite number with prime factors: [2].\n",
      "9 is a composite number with prime factors: [3].\n",
      "10 is a composite number with prime factors: [2, 5].\n",
      "11 is a prime number.\n",
      "12 is a composite number with prime factors: [2, 3].\n",
      "13 is a prime number.\n",
      "14 is a composite number with prime factors: [2, 7].\n",
      "15 is a composite number with prime factors: [3, 5].\n",
      "16 is a composite number with prime factors: [2].\n",
      "17 is a prime number.\n",
      "18 is a composite number with prime factors: [2, 3].\n",
      "19 is a prime number.\n",
      "20 is a composite number with prime factors: [2, 5].\n",
      "21 is a composite number with prime factors: [3, 7].\n",
      "22 is a composite number with prime factors: [2, 11].\n",
      "23 is a prime number.\n",
      "24 is a composite number with prime factors: [2, 3].\n",
      "25 is a composite number with prime factors: [5].\n",
      "26 is a composite number with prime factors: [2, 13].\n",
      "27 is a composite number with prime factors: [3].\n",
      "28 is a composite number with prime factors: [2, 7].\n",
      "29 is a prime number.\n",
      "30 is a composite number with prime factors: [2, 3, 5].\n",
      "31 is a prime number.\n",
      "32 is a composite number with prime factors: [2].\n",
      "33 is a composite number with prime factors: [3, 11].\n",
      "34 is a composite number with prime factors: [2, 17].\n",
      "35 is a composite number with prime factors: [5, 7].\n",
      "36 is a composite number with prime factors: [2, 3].\n",
      "37 is a prime number.\n",
      "38 is a composite number with prime factors: [2, 19].\n",
      "39 is a composite number with prime factors: [3, 13].\n",
      "40 is a composite number with prime factors: [2, 5].\n",
      "41 is a prime number.\n",
      "42 is a composite number with prime factors: [2, 3, 7].\n",
      "43 is a prime number.\n",
      "44 is a composite number with prime factors: [2, 11].\n",
      "45 is a composite number with prime factors: [3, 5].\n",
      "46 is a composite number with prime factors: [2, 23].\n",
      "47 is a prime number.\n",
      "48 is a composite number with prime factors: [2, 3].\n",
      "49 is a composite number with prime factors: [7].\n",
      "50 is a composite number with prime factors: [2, 5].\n"
     ]
    }
   ],
   "source": [
    "import sympy as sym\n",
    "\n",
    "numbers = range(2, 51)\n",
    "\n",
    "for n in numbers:\n",
    "    factors = sym.factorint(n)\n",
    "    keys = list(factors.keys())\n",
    "    # print(keys)\n",
    "    \n",
    "    if len(factors) == 1 and factors[keys[0]] == 1:\n",
    "            print(f'{n} is a prime number.')\n",
    "    else:\n",
    "        print(f'{n} is a composite number with prime factors: {list(factors.keys())}.')"
   ]
  },
  {
   "cell_type": "markdown",
   "metadata": {},
   "source": [
    "# Lecture 43: Inequalities"
   ]
  },
  {
   "cell_type": "code",
   "execution_count": 4,
   "metadata": {},
   "outputs": [
    {
     "data": {
      "text/latex": [
       "$\\displaystyle \\frac{4}{3} - \\frac{x}{6} \\leq \\frac{5 x}{4} - \\frac{1}{2}$"
      ],
      "text/plain": [
       "<IPython.core.display.Math object>"
      ]
     },
     "metadata": {},
     "output_type": "display_data"
    },
    {
     "data": {
      "text/latex": [
       "$\\displaystyle \\frac{22}{17} \\leq x \\wedge x < \\infty$"
      ],
      "text/plain": [
       "<IPython.core.display.Math object>"
      ]
     },
     "metadata": {},
     "output_type": "display_data"
    }
   ],
   "source": [
    "from IPython.display import display, Math\n",
    "\n",
    "x = sym.symbols('x')\n",
    "\n",
    "ex = (3*x)/2 + (4 - 5*x)/3 <= 2 - (5*(2-x))/4\n",
    "\n",
    "display ( Math(sym.latex(ex)) )\n",
    "display ( Math(sym.latex(sym.solve(ex, x))) )"
   ]
  },
  {
   "cell_type": "markdown",
   "metadata": {},
   "source": [
    "# Lecture 44: adding polynomials "
   ]
  },
  {
   "cell_type": "code",
   "execution_count": 15,
   "metadata": {},
   "outputs": [
    {
     "name": "stdout",
     "output_type": "stream",
     "text": [
      "The degree of (x**2 + 2*x) even and its coefficients sum to: 3\n",
      "The degree of (-x**3 + 4*x) is odd and its coefficients count to: 2\n",
      "The degree of (x**5 - x**4 + x/4 + 4) is odd and its coefficients count to: 4\n"
     ]
    }
   ],
   "source": [
    "p1 = sym.Poly(x**2 + 2*x)\n",
    "p2 = sym.Poly(-x**3 + 4*x)\n",
    "p3 = sym.Poly(x**5 - x**4 + x/4+4)\n",
    "\n",
    "# a list with all the polynomials\n",
    "pl = [p1, p2, p3]\n",
    "\n",
    "for p in pl:\n",
    "    \n",
    "    # For each polynomial:\n",
    "    # if the degree is even, sum the coefficients.\n",
    "    # if the degree is odd, count the coefficients.\n",
    "    \n",
    "    if p.degree()%2 == 0:\n",
    "        print('The degree of (%s) even and its coefficients sum to: %g'  %(p.as_expr(), sum(p.coeffs()) ))\n",
    "    else:            \n",
    "        print('The degree of (%s) is odd and its coefficients count to: %g'  %(p.as_expr(), len(p.coeffs()) ) )"
   ]
  },
  {
   "cell_type": "code",
   "execution_count": null,
   "metadata": {},
   "outputs": [],
   "source": []
  }
 ],
 "metadata": {
  "kernelspec": {
   "display_name": "Python 3",
   "language": "python",
   "name": "python3"
  },
  "language_info": {
   "codemirror_mode": {
    "name": "ipython",
    "version": 3
   },
   "file_extension": ".py",
   "mimetype": "text/x-python",
   "name": "python",
   "nbconvert_exporter": "python",
   "pygments_lexer": "ipython3",
   "version": "3.7.6"
  }
 },
 "nbformat": 4,
 "nbformat_minor": 4
}
