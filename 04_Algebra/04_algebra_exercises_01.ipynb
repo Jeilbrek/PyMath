{
 "cells": [
  {
   "cell_type": "markdown",
   "metadata": {},
   "source": [
    "# Lecture 32"
   ]
  },
  {
   "cell_type": "code",
   "execution_count": 2,
   "metadata": {},
   "outputs": [],
   "source": [
    "import sympy as sym\n",
    "from IPython.display import display, Math\n",
    "\n",
    "sym.init_printing()"
   ]
  },
  {
   "cell_type": "code",
   "execution_count": 3,
   "metadata": {},
   "outputs": [
    {
     "data": {
      "text/latex": [
       "$\\displaystyle 3 q + 3 + \\frac{4}{q} = 5 q + 1 + \\frac{1}{q}$"
      ],
      "text/plain": [
       "<IPython.core.display.Math object>"
      ]
     },
     "metadata": {},
     "output_type": "display_data"
    },
    {
     "data": {
      "text/latex": [
       "$\\displaystyle - 2 q + 2 + \\frac{3}{q}$"
      ],
      "text/plain": [
       "<IPython.core.display.Math object>"
      ]
     },
     "metadata": {},
     "output_type": "display_data"
    },
    {
     "data": {
      "text/latex": [
       "$\\displaystyle q=\\left[ \\frac{1}{2} - \\frac{\\sqrt{7}}{2}, \\  \\frac{1}{2} + \\frac{\\sqrt{7}}{2}\\right]$"
      ],
      "text/plain": [
       "<IPython.core.display.Math object>"
      ]
     },
     "metadata": {},
     "output_type": "display_data"
    }
   ],
   "source": [
    "# Exercise 1:\n",
    "q = sym.symbols('q')\n",
    "\n",
    "expr_1_1 = 3*q + 4/q + 3\n",
    "expr_1_2 = 5*q + 1/q + 1\n",
    "\n",
    "expr_1_3 = 3*q + 4/q + 3 - 5*q - 1/q - 1\n",
    "\n",
    "display( Math('%s = %s' %(sym.latex(expr_1_1), sym.latex(expr_1_2))) )\n",
    "display( Math(sym.latex(expr_1_3.simplify())) )\n",
    "\n",
    "display( Math('q=' + sym.latex(sym.solve(expr_1_3, q))) )"
   ]
  },
  {
   "cell_type": "code",
   "execution_count": 4,
   "metadata": {},
   "outputs": [
    {
     "data": {
      "text/latex": [
       "$\\displaystyle 3 q^{2} + 2 q - \\frac{5}{q} - \\frac{4}{q^{3}}$"
      ],
      "text/plain": [
       "<IPython.core.display.Math object>"
      ]
     },
     "metadata": {},
     "output_type": "display_data"
    },
    {
     "data": {
      "text/latex": [
       "$\\displaystyle 3 q^{2} + 2 q - \\frac{5}{q} - \\frac{4}{q^{3}}$"
      ],
      "text/plain": [
       "<IPython.core.display.Math object>"
      ]
     },
     "metadata": {},
     "output_type": "display_data"
    },
    {
     "data": {
      "text/latex": [
       "$\\displaystyle \\frac{3 q^{5} + 2 q^{4} - 5 q^{2} - 4}{q^{3}}$"
      ],
      "text/plain": [
       "<IPython.core.display.Math object>"
      ]
     },
     "metadata": {},
     "output_type": "display_data"
    }
   ],
   "source": [
    "# Exercise 2:\n",
    "\n",
    "expr_2 = 2*q + 3*q**2 - 5/q - 4/q**3\n",
    "\n",
    "display( Math(sym.latex(expr_2) ))\n",
    "display( Math(sym.latex(sym.simplify(expr_2)) ))\n",
    "display( Math(sym.latex(sym.cancel(expr_2)) ))"
   ]
  },
  {
   "cell_type": "code",
   "execution_count": 5,
   "metadata": {},
   "outputs": [
    {
     "data": {
      "text/latex": [
       "$\\displaystyle \\frac{\\sqrt{15} q + \\sqrt{3}}{\\sqrt{10} q + \\sqrt{2}}$"
      ],
      "text/plain": [
       "<IPython.core.display.Math object>"
      ]
     },
     "metadata": {},
     "output_type": "display_data"
    },
    {
     "data": {
      "text/latex": [
       "$\\displaystyle \\frac{\\sqrt{6}}{2}$"
      ],
      "text/plain": [
       "<IPython.core.display.Math object>"
      ]
     },
     "metadata": {},
     "output_type": "display_data"
    }
   ],
   "source": [
    "# Exercise 3:\n",
    "\n",
    "expr_3 = (sym.sqrt(3) + sym.sqrt(15)*q) / (sym.sqrt(2) + sym.sqrt(10)*q)\n",
    "\n",
    "display( Math(sym.latex(expr_3)) )\n",
    "display( Math(sym.latex(sym.simplify(expr_3))) )"
   ]
  },
  {
   "cell_type": "code",
   "execution_count": 8,
   "metadata": {},
   "outputs": [
    {
     "data": {
      "image/png": "[encoded data removed]",
      "text/latex": [
       "$\\displaystyle 1.22474487139159$"
      ],
      "text/plain": [
       "1.22474487139159"
      ]
     },
     "execution_count": 8,
     "metadata": {},
     "output_type": "execute_result"
    }
   ],
   "source": [
    "expr_3.subs(q, 10).evalf()"
   ]
  },
  {
   "cell_type": "markdown",
   "metadata": {},
   "source": [
    "# Lecture 33"
   ]
  },
  {
   "cell_type": "code",
   "execution_count": 15,
   "metadata": {},
   "outputs": [
    {
     "data": {
      "text/latex": [
       "$\\displaystyle f(x,y)=(4+x)(2-y)$"
      ],
      "text/plain": [
       "<IPython.core.display.Math object>"
      ]
     },
     "metadata": {},
     "output_type": "display_data"
    },
    {
     "data": {
      "text/latex": [
       "$\\displaystyle x, y \\in \\{0,1,2\\}$"
      ],
      "text/plain": [
       "<IPython.core.display.Math object>"
      ]
     },
     "metadata": {},
     "output_type": "display_data"
    },
    {
     "name": "stdout",
     "output_type": "stream",
     "text": [
      "When x=0 and y=0, f(x,y)=8\n",
      "When x=0 and y=1, f(x,y)=4\n",
      "When x=0 and y=2, f(x,y)=0\n",
      "When x=1 and y=0, f(x,y)=10\n",
      "When x=1 and y=1, f(x,y)=5\n",
      "When x=1 and y=2, f(x,y)=0\n",
      "When x=2 and y=0, f(x,y)=12\n",
      "When x=2 and y=1, f(x,y)=6\n",
      "When x=2 and y=2, f(x,y)=0\n"
     ]
    }
   ],
   "source": [
    "# Expanding terms exercise\n",
    "x, y = sym.symbols('x, y')\n",
    "\n",
    "expr_1 = (4+x)*(2-y)\n",
    "\n",
    "display( Math('f(x,y)=(4+x)(2-y)') )\n",
    "display( Math('x, y \\\\in \\{0,1,2\\}') )\n",
    "\n",
    "for i in range(0, 3):\n",
    "    for j in range(0, 3):\n",
    "        \n",
    "        print('When x=%g and y=%g, f(x,y)=%g' %(i, j, expr_1.subs({x:i, y:j}).evalf()) )"
   ]
  },
  {
   "cell_type": "code",
   "execution_count": null,
   "metadata": {},
   "outputs": [],
   "source": []
  }
 ],
 "metadata": {
  "kernelspec": {
   "display_name": "Python 3",
   "language": "python",
   "name": "python3"
  },
  "language_info": {
   "codemirror_mode": {
    "name": "ipython",
    "version": 3
   },
   "file_extension": ".py",
   "mimetype": "text/x-python",
   "name": "python",
   "nbconvert_exporter": "python",
   "pygments_lexer": "ipython3",
   "version": "3.7.6"
  }
 },
 "nbformat": 4,
 "nbformat_minor": 4
}
